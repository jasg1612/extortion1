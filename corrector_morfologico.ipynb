{
  "nbformat": 4,
  "nbformat_minor": 0,
  "metadata": {
    "colab": {
      "provenance": []
    },
    "kernelspec": {
      "name": "python3",
      "display_name": "Python 3"
    },
    "language_info": {
      "name": "python"
    }
  },
  "cells": [
    {
      "cell_type": "code",
      "source": [
        "import pandas as pd\n",
        "\n",
        "# DataFrame con textos correctos\n",
        "data = {\n",
        "    'textos_correctos': [\n",
        "        'te crees viva afuera de tu casa esta tu carro lo voy a volar y tu familia va a pagar con sangre si no pagas.',\n",
        "        'Juan será golpeado por mi amigo si no pagas.',\n",
        "        'a tu hermano y a Juan serán golpeados por mi amigo si no pagas tu deuda.',\n",
        "        'págame la cuota si no ya sabras lo que sufrirás.'\n",
        "    ]\n",
        "}\n",
        "df_correctos = pd.DataFrame(data)\n"
      ],
      "metadata": {
        "id": "aDqkHAFSi8se"
      },
      "execution_count": null,
      "outputs": []
    },
    {
      "cell_type": "code",
      "execution_count": null,
      "metadata": {
        "colab": {
          "base_uri": "https://localhost:8080/"
        },
        "id": "vu8Si0p2irWv",
        "outputId": "309d6db9-872c-4d5a-9712-afda4cd57b56"
      },
      "outputs": [
        {
          "output_type": "stream",
          "name": "stdout",
          "text": [
            "ser te\n",
            "ser será\n",
            "golpéad te\n",
            "golpéad viva\n",
            "golpéad volar\n",
            "golpéad golpeado\n",
            "amig te\n",
            "amig a\n",
            "amig mi\n",
            "amig amigo\n",
            "paga. te\n",
            "paga. viva\n",
            "paga. casa\n",
            "paga. pagar\n",
            "Oración original: ser golpéad por mi amig si no paga.\n",
            "Oración corregida: será golpeado por mi amigo si no pagar\n"
          ]
        }
      ],
      "source": [
        "import numpy as np\n",
        "\n",
        "# Oración que deseamos corregir\n",
        "oracion_erronea = 'ser golpéad por mi amig si no paga.'\n",
        "\n",
        "# Función para calcular la distancia de edición entre dos palabras\n",
        "def distancia_edicion(palabra1, palabra2):\n",
        "    matriz = np.zeros((len(palabra1) + 1, len(palabra2) + 1))\n",
        "    for i in range(len(palabra1) + 1):\n",
        "        matriz[i][0] = i\n",
        "\n",
        "    for j in range(len(palabra2) + 1):\n",
        "        matriz[0][j] = j\n",
        "    for i in range(1, len(palabra1) + 1):\n",
        "        for j in range(1, len(palabra2) + 1):\n",
        "            if palabra1[i - 1] == palabra2[j - 1]:\n",
        "                coste = 0\n",
        "            else:\n",
        "                coste = 1\n",
        "\n",
        "            matriz[i][j] = min(matriz[i - 1][j] + 1, matriz[i][j - 1] + 1, matriz[i - 1][j - 1] + coste)\n",
        "    #print(matriz, palabra1,palabra2)\n",
        "    #print(len(palabra1),len(palabra2))\n",
        "    #print(matriz[len(palabra1)][len(palabra2)])\n",
        "    return matriz[len(palabra1)][len(palabra2)]\n",
        "\n",
        "# Función para corregir la oración\n",
        "def corregir_oracion(oracion, dataframe):\n",
        "    palabras_correctas = [palabra for texto in dataframe['textos_correctos'] for palabra in texto.lower().split()]\n",
        "    palabras_oracion = oracion.lower().split()\n",
        "\n",
        "    oracion_corregida = []\n",
        "\n",
        "    for palabra in palabras_oracion:\n",
        "        sugerencia = palabra\n",
        "\n",
        "        # Verificar si la palabra está en los textos correctos\n",
        "        if palabra not in palabras_correctas:\n",
        "            # Encontrar la palabra más cercana por distancia de edición\n",
        "            distancia_minima = float('inf')\n",
        "            for palabra_correcta in palabras_correctas:\n",
        "                distancia = distancia_edicion(palabra, palabra_correcta)\n",
        "                if distancia < distancia_minima:\n",
        "                    distancia_minima = distancia\n",
        "                    sugerencia = palabra_correcta\n",
        "                    print(palabra, palabra_correcta)\n",
        "\n",
        "        oracion_corregida.append(sugerencia)\n",
        "\n",
        "    return ' '.join(oracion_corregida)\n",
        "\n",
        "# Corregir la oración usando el DataFrame de textos correctos\n",
        "oracion_corregida = corregir_oracion(oracion_erronea, df_correctos)\n",
        "print(\"Oración original:\", oracion_erronea)\n",
        "print(\"Oración corregida:\", oracion_corregida)"
      ]
    }
  ]
}